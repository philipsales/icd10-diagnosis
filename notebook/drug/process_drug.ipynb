{
 "cells": [
  {
   "cell_type": "code",
   "execution_count": 137,
   "metadata": {},
   "outputs": [],
   "source": [
    "import pandas as pd\n",
    "import numpy as np"
   ]
  },
  {
   "cell_type": "code",
   "execution_count": 91,
   "metadata": {},
   "outputs": [],
   "source": [
    "# Create the Timestamp object \n",
    "ts = pd.Timestamp(year = 2020,  month = 5, day = 31,  \n",
    "                  hour = 11, second = 49, tz = 'Asia/Singapore') "
   ]
  },
  {
   "cell_type": "code",
   "execution_count": 68,
   "metadata": {},
   "outputs": [
    {
     "data": {
      "text/plain": [
       "id              18165\n",
       "brand_name      18142\n",
       "generic_name    18165\n",
       "preparation       297\n",
       "active          18165\n",
       "created_at      18165\n",
       "updated_at      18165\n",
       "dtype: int64"
      ]
     },
     "execution_count": 68,
     "metadata": {},
     "output_type": "execute_result"
    }
   ],
   "source": [
    "medcheck_drug = pd.read_csv('../../dataset/drug/raw/medcheck_legacy_drugs.csv',\n",
    "                            usecols = ['id','brand_name','generic_name','preparation','active','created_at','updated_at'], \n",
    "                            dtype={'code':'object'})\n",
    "medcheck_drug.count()"
   ]
  },
  {
   "cell_type": "code",
   "execution_count": 106,
   "metadata": {},
   "outputs": [
    {
     "data": {
      "text/html": [
       "<div>\n",
       "<style scoped>\n",
       "    .dataframe tbody tr th:only-of-type {\n",
       "        vertical-align: middle;\n",
       "    }\n",
       "\n",
       "    .dataframe tbody tr th {\n",
       "        vertical-align: top;\n",
       "    }\n",
       "\n",
       "    .dataframe thead th {\n",
       "        text-align: right;\n",
       "    }\n",
       "</style>\n",
       "<table border=\"1\" class=\"dataframe\">\n",
       "  <thead>\n",
       "    <tr style=\"text-align: right;\">\n",
       "      <th></th>\n",
       "      <th>id</th>\n",
       "      <th>brand_name</th>\n",
       "      <th>generic_name</th>\n",
       "      <th>preparation</th>\n",
       "      <th>active</th>\n",
       "      <th>created_at</th>\n",
       "      <th>updated_at</th>\n",
       "      <th>form</th>\n",
       "      <th>strength</th>\n",
       "      <th>validity</th>\n",
       "    </tr>\n",
       "  </thead>\n",
       "  <tbody>\n",
       "    <tr>\n",
       "      <th>0</th>\n",
       "      <td>63306</td>\n",
       "      <td>NOR-NS</td>\n",
       "      <td>0.8% Sodium Chloride</td>\n",
       "      <td>NaN</td>\n",
       "      <td>True</td>\n",
       "      <td>2017-09-26 14:13:42</td>\n",
       "      <td>2017-09-26 14:13:42</td>\n",
       "      <td></td>\n",
       "      <td></td>\n",
       "      <td></td>\n",
       "    </tr>\n",
       "    <tr>\n",
       "      <th>1</th>\n",
       "      <td>63307</td>\n",
       "      <td>A.N.B. 0.9% Sodium Chloride Solution</td>\n",
       "      <td>0.9% Sodium Chloride</td>\n",
       "      <td>NaN</td>\n",
       "      <td>True</td>\n",
       "      <td>2017-09-26 14:13:42</td>\n",
       "      <td>2017-09-26 14:13:42</td>\n",
       "      <td></td>\n",
       "      <td></td>\n",
       "      <td></td>\n",
       "    </tr>\n",
       "  </tbody>\n",
       "</table>\n",
       "</div>"
      ],
      "text/plain": [
       "      id                            brand_name          generic_name  \\\n",
       "0  63306                                NOR-NS  0.8% Sodium Chloride   \n",
       "1  63307  A.N.B. 0.9% Sodium Chloride Solution  0.9% Sodium Chloride   \n",
       "\n",
       "  preparation  active           created_at           updated_at form strength  \\\n",
       "0         NaN    True  2017-09-26 14:13:42  2017-09-26 14:13:42                 \n",
       "1         NaN    True  2017-09-26 14:13:42  2017-09-26 14:13:42                 \n",
       "\n",
       "  validity  \n",
       "0           \n",
       "1           "
      ]
     },
     "execution_count": 106,
     "metadata": {},
     "output_type": "execute_result"
    }
   ],
   "source": [
    "medcheck_drug['form'] = ''\n",
    "medcheck_drug['strength'] = ''\n",
    "medcheck_drug['validity'] = ''\n",
    "medcheck_drug.head(2)"
   ]
  },
  {
   "cell_type": "code",
   "execution_count": 126,
   "metadata": {},
   "outputs": [
    {
     "data": {
      "text/html": [
       "<div>\n",
       "<style scoped>\n",
       "    .dataframe tbody tr th:only-of-type {\n",
       "        vertical-align: middle;\n",
       "    }\n",
       "\n",
       "    .dataframe tbody tr th {\n",
       "        vertical-align: top;\n",
       "    }\n",
       "\n",
       "    .dataframe thead th {\n",
       "        text-align: right;\n",
       "    }\n",
       "</style>\n",
       "<table border=\"1\" class=\"dataframe\">\n",
       "  <thead>\n",
       "    <tr style=\"text-align: right;\">\n",
       "      <th></th>\n",
       "      <th>id</th>\n",
       "      <th>generic_name</th>\n",
       "      <th>brand_name</th>\n",
       "      <th>strength</th>\n",
       "      <th>form</th>\n",
       "      <th>validity</th>\n",
       "      <th>active</th>\n",
       "      <th>preparation</th>\n",
       "      <th>created_at</th>\n",
       "      <th>updated_at</th>\n",
       "    </tr>\n",
       "  </thead>\n",
       "  <tbody>\n",
       "    <tr>\n",
       "      <th>0</th>\n",
       "      <td>NO-004746</td>\n",
       "      <td>Purified Water (Distilled Water)</td>\n",
       "      <td>-</td>\n",
       "      <td>-</td>\n",
       "      <td>-</td>\n",
       "      <td>2020-10-10</td>\n",
       "      <td>True</td>\n",
       "      <td></td>\n",
       "      <td>2020-05-31 11:05:29</td>\n",
       "      <td>2020-05-31 11:05:29</td>\n",
       "    </tr>\n",
       "    <tr>\n",
       "      <th>1</th>\n",
       "      <td>DE-000331</td>\n",
       "      <td>Budesonide</td>\n",
       "      <td>Budecort Respules</td>\n",
       "      <td>250 mg/mL</td>\n",
       "      <td>Nebulizing Suspension (Sterile)</td>\n",
       "      <td>2020-08-11</td>\n",
       "      <td>True</td>\n",
       "      <td></td>\n",
       "      <td>2020-05-31 11:05:29</td>\n",
       "      <td>2020-05-31 11:05:29</td>\n",
       "    </tr>\n",
       "  </tbody>\n",
       "</table>\n",
       "</div>"
      ],
      "text/plain": [
       "          id                      generic_name         brand_name   strength  \\\n",
       "0  NO-004746  Purified Water (Distilled Water)                  -          -   \n",
       "1  DE-000331                        Budesonide  Budecort Respules  250 mg/mL   \n",
       "\n",
       "                              form    validity  active preparation  \\\n",
       "0                                -  2020-10-10    True               \n",
       "1  Nebulizing Suspension (Sterile)  2020-08-11    True               \n",
       "\n",
       "            created_at           updated_at  \n",
       "0  2020-05-31 11:05:29  2020-05-31 11:05:29  \n",
       "1  2020-05-31 11:05:29  2020-05-31 11:05:29  "
      ]
     },
     "execution_count": 126,
     "metadata": {},
     "output_type": "execute_result"
    }
   ],
   "source": [
    "fda_drug = pd.read_csv('../../dataset/drug/raw/fda_drugs.csv',\n",
    "                       usecols = ['cpr_number','generic','brand','strength','form','validity'], \n",
    "                       sep=',',\n",
    "                       encoding = \"ISO-8859-1\")\n",
    "\n",
    "fda_drug = fda_drug.rename(columns={\"cpr_number\": \"id\", \n",
    "                                 \"brand\": \"brand_name\",\n",
    "                                 \"generic\": \"generic_name\", \n",
    "                                 \"preparation\":\"preparation\", \n",
    "                                 \"form\":\"form\",\n",
    "                                 \"validity\":\"validity\"})\n",
    "fda_drug['active'] = True\n",
    "fda_drug['preparation'] = ''\n",
    "fda_drug['created_at'] = pd.to_datetime('today').strftime(\"%Y-%m-%d %H:%m:%S\")\n",
    "fda_drug['updated_at'] = pd.to_datetime('today').strftime(\"%Y-%m-%d %H:%m:%S\")\n",
    "fda_drug.head(2)"
   ]
  },
  {
   "cell_type": "code",
   "execution_count": 127,
   "metadata": {},
   "outputs": [
    {
     "data": {
      "text/plain": [
       "id              17028\n",
       "generic_name    17028\n",
       "brand_name      17028\n",
       "strength        17028\n",
       "form            17028\n",
       "validity        17028\n",
       "active          17028\n",
       "preparation     17028\n",
       "created_at      17028\n",
       "updated_at      17028\n",
       "dtype: int64"
      ]
     },
     "execution_count": 127,
     "metadata": {},
     "output_type": "execute_result"
    }
   ],
   "source": [
    "fda_drug.count()"
   ]
  },
  {
   "cell_type": "code",
   "execution_count": 128,
   "metadata": {},
   "outputs": [
    {
     "data": {
      "text/plain": [
       "id              35193\n",
       "generic_name    35193\n",
       "brand_name      35170\n",
       "strength        35193\n",
       "form            35193\n",
       "validity        35193\n",
       "active          35193\n",
       "preparation     17325\n",
       "created_at      35193\n",
       "updated_at      35193\n",
       "dtype: int64"
      ]
     },
     "execution_count": 128,
     "metadata": {},
     "output_type": "execute_result"
    }
   ],
   "source": [
    "frames = [fda_drug, medcheck_drug]\n",
    "merge_drug = pd.concat(frames)\n",
    "merge_drug.count()"
   ]
  },
  {
   "cell_type": "code",
   "execution_count": 149,
   "metadata": {},
   "outputs": [
    {
     "data": {
      "text/plain": [
       "id              34145\n",
       "generic_name    34145\n",
       "brand_name      34122\n",
       "strength        15980\n",
       "form            15980\n",
       "validity        15980\n",
       "active          34145\n",
       "preparation       297\n",
       "created_at      34145\n",
       "updated_at      34145\n",
       "dtype: int64"
      ]
     },
     "execution_count": 149,
     "metadata": {},
     "output_type": "execute_result"
    }
   ],
   "source": [
    "merge_drug = merge_drug.drop_duplicates(subset='id')\n",
    "merge_drug = merge_drug.drop_duplicates(subset=['brand_name','generic_name','strength','form'])\n",
    "merge_drug = merge_drug.sort_values(by=['id','generic_name','brand_name'])\n",
    "merge_drug = merge_drug.replace('',np.nan, regex=True)\n",
    "merge_drug.count()"
   ]
  },
  {
   "cell_type": "code",
   "execution_count": 150,
   "metadata": {},
   "outputs": [
    {
     "data": {
      "text/html": [
       "<div>\n",
       "<style scoped>\n",
       "    .dataframe tbody tr th:only-of-type {\n",
       "        vertical-align: middle;\n",
       "    }\n",
       "\n",
       "    .dataframe tbody tr th {\n",
       "        vertical-align: top;\n",
       "    }\n",
       "\n",
       "    .dataframe thead th {\n",
       "        text-align: right;\n",
       "    }\n",
       "</style>\n",
       "<table border=\"1\" class=\"dataframe\">\n",
       "  <thead>\n",
       "    <tr style=\"text-align: right;\">\n",
       "      <th></th>\n",
       "      <th>id</th>\n",
       "      <th>generic_name</th>\n",
       "      <th>brand_name</th>\n",
       "      <th>strength</th>\n",
       "      <th>form</th>\n",
       "      <th>validity</th>\n",
       "      <th>active</th>\n",
       "      <th>preparation</th>\n",
       "      <th>created_at</th>\n",
       "      <th>updated_at</th>\n",
       "    </tr>\n",
       "  </thead>\n",
       "  <tbody>\n",
       "    <tr>\n",
       "      <th>0</th>\n",
       "      <td>63306</td>\n",
       "      <td>0.8% Sodium Chloride</td>\n",
       "      <td>NOR-NS</td>\n",
       "      <td>NaN</td>\n",
       "      <td>NaN</td>\n",
       "      <td>NaN</td>\n",
       "      <td>True</td>\n",
       "      <td>NaN</td>\n",
       "      <td>2017-09-26 14:13:42</td>\n",
       "      <td>2017-09-26 14:13:42</td>\n",
       "    </tr>\n",
       "    <tr>\n",
       "      <th>1</th>\n",
       "      <td>63307</td>\n",
       "      <td>0.9% Sodium Chloride</td>\n",
       "      <td>A.N.B. 0.9% Sodium Chloride Solution</td>\n",
       "      <td>NaN</td>\n",
       "      <td>NaN</td>\n",
       "      <td>NaN</td>\n",
       "      <td>True</td>\n",
       "      <td>NaN</td>\n",
       "      <td>2017-09-26 14:13:42</td>\n",
       "      <td>2017-09-26 14:13:42</td>\n",
       "    </tr>\n",
       "    <tr>\n",
       "      <th>2</th>\n",
       "      <td>63308</td>\n",
       "      <td>0.9% Sodium Chloride</td>\n",
       "      <td>Infusol NS</td>\n",
       "      <td>NaN</td>\n",
       "      <td>NaN</td>\n",
       "      <td>NaN</td>\n",
       "      <td>True</td>\n",
       "      <td>NaN</td>\n",
       "      <td>2017-09-26 14:13:42</td>\n",
       "      <td>2017-09-26 14:13:42</td>\n",
       "    </tr>\n",
       "    <tr>\n",
       "      <th>3</th>\n",
       "      <td>63309</td>\n",
       "      <td>0.9% Sodium Chloride</td>\n",
       "      <td>INTRA NaCl</td>\n",
       "      <td>NaN</td>\n",
       "      <td>NaN</td>\n",
       "      <td>NaN</td>\n",
       "      <td>True</td>\n",
       "      <td>NaN</td>\n",
       "      <td>2017-09-26 14:13:42</td>\n",
       "      <td>2017-09-26 14:13:42</td>\n",
       "    </tr>\n",
       "    <tr>\n",
       "      <th>4</th>\n",
       "      <td>63310</td>\n",
       "      <td>0.9% Sodium Chloride</td>\n",
       "      <td>MINI-BAG PLUS</td>\n",
       "      <td>NaN</td>\n",
       "      <td>NaN</td>\n",
       "      <td>NaN</td>\n",
       "      <td>True</td>\n",
       "      <td>NaN</td>\n",
       "      <td>2017-09-26 14:13:42</td>\n",
       "      <td>2017-09-26 14:13:42</td>\n",
       "    </tr>\n",
       "  </tbody>\n",
       "</table>\n",
       "</div>"
      ],
      "text/plain": [
       "      id          generic_name                            brand_name strength  \\\n",
       "0  63306  0.8% Sodium Chloride                                NOR-NS      NaN   \n",
       "1  63307  0.9% Sodium Chloride  A.N.B. 0.9% Sodium Chloride Solution      NaN   \n",
       "2  63308  0.9% Sodium Chloride                            Infusol NS      NaN   \n",
       "3  63309  0.9% Sodium Chloride                            INTRA NaCl      NaN   \n",
       "4  63310  0.9% Sodium Chloride                         MINI-BAG PLUS      NaN   \n",
       "\n",
       "  form validity  active preparation           created_at           updated_at  \n",
       "0  NaN      NaN    True         NaN  2017-09-26 14:13:42  2017-09-26 14:13:42  \n",
       "1  NaN      NaN    True         NaN  2017-09-26 14:13:42  2017-09-26 14:13:42  \n",
       "2  NaN      NaN    True         NaN  2017-09-26 14:13:42  2017-09-26 14:13:42  \n",
       "3  NaN      NaN    True         NaN  2017-09-26 14:13:42  2017-09-26 14:13:42  \n",
       "4  NaN      NaN    True         NaN  2017-09-26 14:13:42  2017-09-26 14:13:42  "
      ]
     },
     "execution_count": 150,
     "metadata": {},
     "output_type": "execute_result"
    }
   ],
   "source": [
    "merge_drug.head()"
   ]
  },
  {
   "cell_type": "code",
   "execution_count": 151,
   "metadata": {},
   "outputs": [],
   "source": [
    "merge_drug.to_csv('../../dataset/drug/processed/medcheck_drugs.2020-05-31.csv.gz', \n",
    "                  compression='gzip')"
   ]
  },
  {
   "cell_type": "code",
   "execution_count": 153,
   "metadata": {},
   "outputs": [],
   "source": [
    "merge_drug.to_json('../../dataset/drug/processed/medcheck_drugs.2020-05-31.json',\n",
    "                   orient='records')"
   ]
  },
  {
   "cell_type": "code",
   "execution_count": null,
   "metadata": {},
   "outputs": [],
   "source": []
  },
  {
   "cell_type": "code",
   "execution_count": null,
   "metadata": {},
   "outputs": [],
   "source": []
  }
 ],
 "metadata": {
  "kernelspec": {
   "display_name": "Python 3",
   "language": "python",
   "name": "python3"
  },
  "language_info": {
   "codemirror_mode": {
    "name": "ipython",
    "version": 3
   },
   "file_extension": ".py",
   "mimetype": "text/x-python",
   "name": "python",
   "nbconvert_exporter": "python",
   "pygments_lexer": "ipython3",
   "version": "3.6.2"
  }
 },
 "nbformat": 4,
 "nbformat_minor": 4
}
