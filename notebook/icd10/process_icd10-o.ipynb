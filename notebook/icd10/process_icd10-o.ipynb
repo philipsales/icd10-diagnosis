{
 "cells": [
  {
   "cell_type": "code",
   "execution_count": 3,
   "metadata": {},
   "outputs": [],
   "source": [
    "import pandas as pd"
   ]
  },
  {
   "cell_type": "code",
   "execution_count": 5,
   "metadata": {},
   "outputs": [
    {
     "data": {
      "text/html": [
       "<div>\n",
       "<style scoped>\n",
       "    .dataframe tbody tr th:only-of-type {\n",
       "        vertical-align: middle;\n",
       "    }\n",
       "\n",
       "    .dataframe tbody tr th {\n",
       "        vertical-align: top;\n",
       "    }\n",
       "\n",
       "    .dataframe thead th {\n",
       "        text-align: right;\n",
       "    }\n",
       "</style>\n",
       "<table border=\"1\" class=\"dataframe\">\n",
       "  <thead>\n",
       "    <tr style=\"text-align: right;\">\n",
       "      <th></th>\n",
       "      <th>_id</th>\n",
       "      <th>site_code</th>\n",
       "      <th>histology_code</th>\n",
       "      <th>site_name</th>\n",
       "      <th>histology_name</th>\n",
       "      <th>diagnosis_code</th>\n",
       "      <th>diagnosis_name</th>\n",
       "    </tr>\n",
       "  </thead>\n",
       "  <tbody>\n",
       "    <tr>\n",
       "      <th>0</th>\n",
       "      <td>{'$oid': '5a7bca4cd63ed78083f9bf13'}</td>\n",
       "      <td>C00.0</td>\n",
       "      <td>8000/3</td>\n",
       "      <td>external upper lip</td>\n",
       "      <td>neoplasm, malignant</td>\n",
       "      <td>C00.0-8000/3</td>\n",
       "      <td>external upper lip neoplasm, malignant</td>\n",
       "    </tr>\n",
       "    <tr>\n",
       "      <th>1</th>\n",
       "      <td>{'$oid': '5a7bca4cd63ed78083f9bf14'}</td>\n",
       "      <td>C00.1</td>\n",
       "      <td>8000/3</td>\n",
       "      <td>external lower lip</td>\n",
       "      <td>neoplasm, malignant</td>\n",
       "      <td>C00.1-8000/3</td>\n",
       "      <td>external lower lip neoplasm, malignant</td>\n",
       "    </tr>\n",
       "    <tr>\n",
       "      <th>2</th>\n",
       "      <td>{'$oid': '5a7bca4cd63ed78083f9bf15'}</td>\n",
       "      <td>C00.2</td>\n",
       "      <td>8000/3</td>\n",
       "      <td>external lip, nos</td>\n",
       "      <td>neoplasm, malignant</td>\n",
       "      <td>C00.2-8000/3</td>\n",
       "      <td>external lip, nos neoplasm, malignant</td>\n",
       "    </tr>\n",
       "    <tr>\n",
       "      <th>3</th>\n",
       "      <td>{'$oid': '5a7bca4cd63ed78083f9bf16'}</td>\n",
       "      <td>C00.3</td>\n",
       "      <td>8000/3</td>\n",
       "      <td>mucosa of upper lip</td>\n",
       "      <td>neoplasm, malignant</td>\n",
       "      <td>C00.3-8000/3</td>\n",
       "      <td>mucosa of upper lip neoplasm, malignant</td>\n",
       "    </tr>\n",
       "    <tr>\n",
       "      <th>4</th>\n",
       "      <td>{'$oid': '5a7bca4cd63ed78083f9bf17'}</td>\n",
       "      <td>C00.4</td>\n",
       "      <td>8000/3</td>\n",
       "      <td>mucosa of lower lip</td>\n",
       "      <td>neoplasm, malignant</td>\n",
       "      <td>C00.4-8000/3</td>\n",
       "      <td>mucosa of lower lip neoplasm, malignant</td>\n",
       "    </tr>\n",
       "    <tr>\n",
       "      <th>...</th>\n",
       "      <td>...</td>\n",
       "      <td>...</td>\n",
       "      <td>...</td>\n",
       "      <td>...</td>\n",
       "      <td>...</td>\n",
       "      <td>...</td>\n",
       "      <td>...</td>\n",
       "    </tr>\n",
       "    <tr>\n",
       "      <th>49826</th>\n",
       "      <td>{'$oid': '5a7bca4dd63ed78083fa81e6'}</td>\n",
       "      <td>C80.9</td>\n",
       "      <td>9729/3</td>\n",
       "      <td>unknown primary site</td>\n",
       "      <td>precursor t-cell lymphoblastic lymphoma</td>\n",
       "      <td>C80.9-9729/3</td>\n",
       "      <td>unknown primary site precursor t-cell lymphobl...</td>\n",
       "    </tr>\n",
       "    <tr>\n",
       "      <th>49827</th>\n",
       "      <td>{'$oid': '5a7bca4dd63ed78083fa81e7'}</td>\n",
       "      <td>C80.9</td>\n",
       "      <td>9731/3</td>\n",
       "      <td>unknown primary site</td>\n",
       "      <td>plasmacytoma, nos</td>\n",
       "      <td>C80.9-9731/3</td>\n",
       "      <td>unknown primary site plasmacytoma, nos</td>\n",
       "    </tr>\n",
       "    <tr>\n",
       "      <th>49828</th>\n",
       "      <td>{'$oid': '5a7bca4dd63ed78083fa81e8'}</td>\n",
       "      <td>C80.9</td>\n",
       "      <td>9732/3</td>\n",
       "      <td>unknown primary site</td>\n",
       "      <td>multiple myeloma</td>\n",
       "      <td>C80.9-9732/3</td>\n",
       "      <td>unknown primary site multiple myeloma</td>\n",
       "    </tr>\n",
       "    <tr>\n",
       "      <th>49829</th>\n",
       "      <td>{'$oid': '5a7bca4dd63ed78083fa81e9'}</td>\n",
       "      <td>C80.9</td>\n",
       "      <td>9734/3</td>\n",
       "      <td>unknown primary site</td>\n",
       "      <td>plasmacytoma, extramedullary</td>\n",
       "      <td>C80.9-9734/3</td>\n",
       "      <td>unknown primary site plasmacytoma, extramedull...</td>\n",
       "    </tr>\n",
       "    <tr>\n",
       "      <th>49830</th>\n",
       "      <td>{'$oid': '5a7bca4dd63ed78083fa81ea'}</td>\n",
       "      <td>C80.9</td>\n",
       "      <td>9823/3</td>\n",
       "      <td>unknown primary site</td>\n",
       "      <td>b-cell chronic lymphocytic leukemia/small lymp...</td>\n",
       "      <td>C80.9-9823/3</td>\n",
       "      <td>unknown primary site b-cell chronic lymphocyti...</td>\n",
       "    </tr>\n",
       "  </tbody>\n",
       "</table>\n",
       "<p>49831 rows × 7 columns</p>\n",
       "</div>"
      ],
      "text/plain": [
       "                                        _id site_code histology_code  \\\n",
       "0      {'$oid': '5a7bca4cd63ed78083f9bf13'}     C00.0         8000/3   \n",
       "1      {'$oid': '5a7bca4cd63ed78083f9bf14'}     C00.1         8000/3   \n",
       "2      {'$oid': '5a7bca4cd63ed78083f9bf15'}     C00.2         8000/3   \n",
       "3      {'$oid': '5a7bca4cd63ed78083f9bf16'}     C00.3         8000/3   \n",
       "4      {'$oid': '5a7bca4cd63ed78083f9bf17'}     C00.4         8000/3   \n",
       "...                                     ...       ...            ...   \n",
       "49826  {'$oid': '5a7bca4dd63ed78083fa81e6'}     C80.9         9729/3   \n",
       "49827  {'$oid': '5a7bca4dd63ed78083fa81e7'}     C80.9         9731/3   \n",
       "49828  {'$oid': '5a7bca4dd63ed78083fa81e8'}     C80.9         9732/3   \n",
       "49829  {'$oid': '5a7bca4dd63ed78083fa81e9'}     C80.9         9734/3   \n",
       "49830  {'$oid': '5a7bca4dd63ed78083fa81ea'}     C80.9         9823/3   \n",
       "\n",
       "                  site_name  \\\n",
       "0        external upper lip   \n",
       "1        external lower lip   \n",
       "2         external lip, nos   \n",
       "3       mucosa of upper lip   \n",
       "4       mucosa of lower lip   \n",
       "...                     ...   \n",
       "49826  unknown primary site   \n",
       "49827  unknown primary site   \n",
       "49828  unknown primary site   \n",
       "49829  unknown primary site   \n",
       "49830  unknown primary site   \n",
       "\n",
       "                                          histology_name diagnosis_code  \\\n",
       "0                                    neoplasm, malignant   C00.0-8000/3   \n",
       "1                                    neoplasm, malignant   C00.1-8000/3   \n",
       "2                                    neoplasm, malignant   C00.2-8000/3   \n",
       "3                                    neoplasm, malignant   C00.3-8000/3   \n",
       "4                                    neoplasm, malignant   C00.4-8000/3   \n",
       "...                                                  ...            ...   \n",
       "49826            precursor t-cell lymphoblastic lymphoma   C80.9-9729/3   \n",
       "49827                                  plasmacytoma, nos   C80.9-9731/3   \n",
       "49828                                   multiple myeloma   C80.9-9732/3   \n",
       "49829                       plasmacytoma, extramedullary   C80.9-9734/3   \n",
       "49830  b-cell chronic lymphocytic leukemia/small lymp...   C80.9-9823/3   \n",
       "\n",
       "                                          diagnosis_name  \n",
       "0                external upper lip neoplasm, malignant   \n",
       "1                external lower lip neoplasm, malignant   \n",
       "2                 external lip, nos neoplasm, malignant   \n",
       "3               mucosa of upper lip neoplasm, malignant   \n",
       "4               mucosa of lower lip neoplasm, malignant   \n",
       "...                                                  ...  \n",
       "49826  unknown primary site precursor t-cell lymphobl...  \n",
       "49827            unknown primary site plasmacytoma, nos   \n",
       "49828             unknown primary site multiple myeloma   \n",
       "49829  unknown primary site plasmacytoma, extramedull...  \n",
       "49830  unknown primary site b-cell chronic lymphocyti...  \n",
       "\n",
       "[49831 rows x 7 columns]"
      ]
     },
     "execution_count": 5,
     "metadata": {},
     "output_type": "execute_result"
    }
   ],
   "source": [
    "icd10_o = pd.read_json('../../dataset/diagnosis/icd10-oncology/raw/icd-oncology.v3.json', orient='records')\n",
    "icd10_o"
   ]
  },
  {
   "cell_type": "code",
   "execution_count": 5,
   "metadata": {},
   "outputs": [],
   "source": [
    "icd10_addition_df = pd.read_json('../dataset/new_index/additional-data.json',  orient='records')"
   ]
  },
  {
   "cell_type": "code",
   "execution_count": 6,
   "metadata": {},
   "outputs": [
    {
     "data": {
      "text/plain": [
       "type         170451\n",
       "code         170280\n",
       "url          170451\n",
       "diagnosis    170280\n",
       "dtype: int64"
      ]
     },
     "execution_count": 6,
     "metadata": {},
     "output_type": "execute_result"
    }
   ],
   "source": [
    "icd10_official_df.count()"
   ]
  },
  {
   "cell_type": "markdown",
   "metadata": {},
   "source": [
    "### drop duplicate diagnosis for each dataset"
   ]
  },
  {
   "cell_type": "code",
   "execution_count": 7,
   "metadata": {},
   "outputs": [],
   "source": [
    "icd10_official_df = icd10_official_df.drop_duplicates(subset='diagnosis')\n",
    "icd10_addition_df = icd10_addition_df.drop_duplicates(subset='diagnosis')"
   ]
  },
  {
   "cell_type": "code",
   "execution_count": 8,
   "metadata": {},
   "outputs": [
    {
     "data": {
      "text/plain": [
       "type         157690\n",
       "code         157689\n",
       "url          157690\n",
       "diagnosis    157689\n",
       "dtype: int64"
      ]
     },
     "execution_count": 8,
     "metadata": {},
     "output_type": "execute_result"
    }
   ],
   "source": [
    "icd10_official_df.count()"
   ]
  },
  {
   "cell_type": "code",
   "execution_count": 9,
   "metadata": {},
   "outputs": [
    {
     "data": {
      "text/plain": [
       "type         157769\n",
       "code         157768\n",
       "url          157769\n",
       "diagnosis    157768\n",
       "dtype: int64"
      ]
     },
     "execution_count": 9,
     "metadata": {},
     "output_type": "execute_result"
    }
   ],
   "source": [
    "icd10_official_df = icd10_official_df.append(icd10_addition_df)\n",
    "icd10_official_df.count()"
   ]
  },
  {
   "cell_type": "code",
   "execution_count": 12,
   "metadata": {},
   "outputs": [],
   "source": [
    "icd10_official_df.to_csv('../dataset/icd10/processed/icd10-2020-cm.csv.gz', compression='gzip')"
   ]
  },
  {
   "cell_type": "code",
   "execution_count": null,
   "metadata": {},
   "outputs": [],
   "source": []
  },
  {
   "cell_type": "code",
   "execution_count": null,
   "metadata": {},
   "outputs": [],
   "source": []
  }
 ],
 "metadata": {
  "kernelspec": {
   "display_name": "Python 3",
   "language": "python",
   "name": "python3"
  },
  "language_info": {
   "codemirror_mode": {
    "name": "ipython",
    "version": 3
   },
   "file_extension": ".py",
   "mimetype": "text/x-python",
   "name": "python",
   "nbconvert_exporter": "python",
   "pygments_lexer": "ipython3",
   "version": "3.6.2"
  }
 },
 "nbformat": 4,
 "nbformat_minor": 4
}
