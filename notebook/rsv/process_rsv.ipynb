{
 "cells": [
  {
   "cell_type": "code",
   "execution_count": 2,
   "metadata": {},
   "outputs": [],
   "source": [
    "import pandas as pd\n",
    "import numpy as np"
   ]
  },
  {
   "cell_type": "code",
   "execution_count": 3,
   "metadata": {},
   "outputs": [
    {
     "data": {
      "text/plain": [
       "rsv_code                      9717\n",
       "code_type                     9717\n",
       "description                   9717\n",
       "group                         4701\n",
       "case_rate_fee                 9706\n",
       "professional_fee              9699\n",
       "healthcare_institution_fee    9704\n",
       "case_type                     9717\n",
       "case_occurence                9717\n",
       "reference_url                 9717\n",
       "reference_title               9717\n",
       "effectivity_start_date        9717\n",
       "effectivity_end_date             0\n",
       "dtype: int64"
      ]
     },
     "execution_count": 3,
     "metadata": {},
     "output_type": "execute_result"
    }
   ],
   "source": [
    "rsv = pd.read_excel(open('../../dataset/rsv/raw/rsv_codes.xlsx','rb'),\n",
    "                              sheet_name='AllCases')  \n",
    "rsv.count()"
   ]
  },
  {
   "cell_type": "code",
   "execution_count": 5,
   "metadata": {},
   "outputs": [
    {
     "data": {
      "text/html": [
       "<div>\n",
       "<style scoped>\n",
       "    .dataframe tbody tr th:only-of-type {\n",
       "        vertical-align: middle;\n",
       "    }\n",
       "\n",
       "    .dataframe tbody tr th {\n",
       "        vertical-align: top;\n",
       "    }\n",
       "\n",
       "    .dataframe thead th {\n",
       "        text-align: right;\n",
       "    }\n",
       "</style>\n",
       "<table border=\"1\" class=\"dataframe\">\n",
       "  <thead>\n",
       "    <tr style=\"text-align: right;\">\n",
       "      <th></th>\n",
       "      <th>rsv_code</th>\n",
       "      <th>code_type</th>\n",
       "      <th>description</th>\n",
       "      <th>group</th>\n",
       "      <th>case_rate_fee</th>\n",
       "      <th>professional_fee</th>\n",
       "      <th>healthcare_institution_fee</th>\n",
       "      <th>case_type</th>\n",
       "      <th>case_occurence</th>\n",
       "      <th>reference_url</th>\n",
       "      <th>reference_title</th>\n",
       "      <th>effectivity_start_date</th>\n",
       "      <th>effectivity_end_date</th>\n",
       "    </tr>\n",
       "  </thead>\n",
       "  <tbody>\n",
       "    <tr>\n",
       "      <th>0</th>\n",
       "      <td>P91.3</td>\n",
       "      <td>ICD10</td>\n",
       "      <td>Neonatal cerebral irritability</td>\n",
       "      <td>ABNORMAL SENSORIUM IN THE NEWBORN</td>\n",
       "      <td>12000</td>\n",
       "      <td>3600.0</td>\n",
       "      <td>8400.0</td>\n",
       "      <td>medical case</td>\n",
       "      <td>first case</td>\n",
       "      <td>https://www.philhealth.gov.ph/circulars/2013/</td>\n",
       "      <td>Annex 1: List Of Medical Case Rates</td>\n",
       "      <td>2017-02-01</td>\n",
       "      <td>NaN</td>\n",
       "    </tr>\n",
       "    <tr>\n",
       "      <th>1</th>\n",
       "      <td>P91.4</td>\n",
       "      <td>ICD10</td>\n",
       "      <td>Neonatal cerebral depression</td>\n",
       "      <td>ABNORMAL SENSORIUM IN THE NEWBORN</td>\n",
       "      <td>12000</td>\n",
       "      <td>3600.0</td>\n",
       "      <td>8400.0</td>\n",
       "      <td>medical case</td>\n",
       "      <td>first case</td>\n",
       "      <td>https://www.philhealth.gov.ph/circulars/2013/</td>\n",
       "      <td>Annex 1: List Of Medical Case Rates</td>\n",
       "      <td>2017-02-01</td>\n",
       "      <td>NaN</td>\n",
       "    </tr>\n",
       "  </tbody>\n",
       "</table>\n",
       "</div>"
      ],
      "text/plain": [
       "  rsv_code code_type                     description  \\\n",
       "0    P91.3     ICD10  Neonatal cerebral irritability   \n",
       "1    P91.4     ICD10    Neonatal cerebral depression   \n",
       "\n",
       "                               group case_rate_fee  professional_fee  \\\n",
       "0  ABNORMAL SENSORIUM IN THE NEWBORN         12000            3600.0   \n",
       "1  ABNORMAL SENSORIUM IN THE NEWBORN         12000            3600.0   \n",
       "\n",
       "   healthcare_institution_fee     case_type case_occurence  \\\n",
       "0                      8400.0  medical case     first case   \n",
       "1                      8400.0  medical case     first case   \n",
       "\n",
       "                                   reference_url  \\\n",
       "0  https://www.philhealth.gov.ph/circulars/2013/   \n",
       "1  https://www.philhealth.gov.ph/circulars/2013/   \n",
       "\n",
       "                        reference_title effectivity_start_date  \\\n",
       "0   Annex 1: List Of Medical Case Rates             2017-02-01   \n",
       "1   Annex 1: List Of Medical Case Rates             2017-02-01   \n",
       "\n",
       "   effectivity_end_date  \n",
       "0                   NaN  \n",
       "1                   NaN  "
      ]
     },
     "execution_count": 5,
     "metadata": {},
     "output_type": "execute_result"
    }
   ],
   "source": [
    "rsv.head(2)"
   ]
  },
  {
   "cell_type": "code",
   "execution_count": 6,
   "metadata": {},
   "outputs": [],
   "source": [
    "rsv.to_json('../../dataset/rsv/processed/rsv.2020-05-31.json',\n",
    "            orient='records')"
   ]
  },
  {
   "cell_type": "code",
   "execution_count": null,
   "metadata": {},
   "outputs": [],
   "source": []
  },
  {
   "cell_type": "code",
   "execution_count": null,
   "metadata": {},
   "outputs": [],
   "source": []
  }
 ],
 "metadata": {
  "kernelspec": {
   "display_name": "Python 3",
   "language": "python",
   "name": "python3"
  },
  "language_info": {
   "codemirror_mode": {
    "name": "ipython",
    "version": 3
   },
   "file_extension": ".py",
   "mimetype": "text/x-python",
   "name": "python",
   "nbconvert_exporter": "python",
   "pygments_lexer": "ipython3",
   "version": "3.6.2"
  }
 },
 "nbformat": 4,
 "nbformat_minor": 4
}
